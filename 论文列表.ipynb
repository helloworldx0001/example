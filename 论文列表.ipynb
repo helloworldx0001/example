{
 "cells": [
  {
   "cell_type": "markdown",
   "metadata": {},
   "source": [
    "## 必读 paper 列表\n",
    "\n",
    "\n",
    "### 图像识别\n",
    "#### 0. LeNet <http://yann.lecun.com/exdb/publis/pdf/lecun-98.pdf>\n",
    "####  1. AlexNet   <https://papers.nips.cc/paper/4824-imagenet-classification-with-deep-convolutional-neural-networks.pdf>\n",
    "\n",
    "####  2. VGGNet    <https://arxiv.org/pdf/1409.1556v6.pdf>\n",
    "\n",
    "####  3. InceptionV1 <https://arxiv.org/pdf/1409.4842.pdf>\n",
    "####  4. InceptionV2 <https://arxiv.org/pdf/1502.03167.pdf>\n",
    "####  5. InceptionV3 <https://arxiv.org/pdf/1512.00567.pdf>\n",
    "####  6. InceptionV4 <https://arxiv.org/pdf/1602.07261.pdf> \n",
    "\n",
    "#### 7. ResNet  <https://arxiv.org/pdf/1512.03385v1.pdf>\n",
    "------\n",
    "\n",
    "\n",
    "\n",
    "### 目标检测\n",
    "#### 8. RCNN   <https://arxiv.org/pdf/1311.2524v5.pdf>\n",
    "\n",
    "#### 9. Fast_RCNN <https://arxiv.org/pdf/1504.08083.pdf>\n",
    "\n",
    "#### 10. Faster_RCNN <https://arxiv.org/pdf/1506.01497v3.pdf>\n",
    "\n",
    "#### 11. Mask_RCNN <https://arxiv.org/pdf/1703.06870.pdf>\n",
    "\n",
    "\n",
    "#### 12. YOLOv1 <https://arxiv.org/pdf/1506.02640v1.pdf>\n",
    "\n",
    "#### 13. YOLOv2 <https://arxiv.org/pdf/1612.08242.pdf>\n",
    "\n",
    "#### 14. Yolov3 <https://arxiv.org/pdf/1804.02767.pdf>\n",
    "\n",
    "\n",
    "#### 15. SSD <https://arxiv.org/pdf/1512.02325v4.pdf>\n",
    "#### 16. DSSD <https://arxiv.org/pdf/1701.06659.pdf>\n",
    "\n",
    "\n",
    "#### 17. FocalLoss <https://arxiv.org/pdf/1708.02002.pdf>\n",
    "----\n",
    "\n",
    "\n",
    "### 人脸检测\n",
    "#### 18. FaceBox <http://cn.arxiv.org/pdf/1708.05234v4>\n",
    "#### 19. MTCNN  <http://cn.arxiv.org/pdf/1708.05234v4>\n",
    "\n",
    "-----\n",
    "\n",
    "### 人脸识别\n",
    "\n",
    "#### 20. CenterLoss <http://ydwen.github.io/papers/WenECCV16.pdf>\n",
    "#### 21. TripletLoss <https://arxiv.org/pdf/1503.03832.pdf>\n",
    "#### 22. L-Softmax <https://arxiv.org/pdf/1612.02295.pdf>\n",
    "#### 23. A-Softmax <https://arxiv.org/pdf/1704.08063.pdf>\n",
    "#### 24. AAM-Softmax <https://arxiv.org/pdf/1801.07698.pdf>\n"
   ]
  },
  {
   "cell_type": "code",
   "execution_count": null,
   "metadata": {
    "collapsed": true
   },
   "outputs": [],
   "source": []
  }
 ],
 "metadata": {
  "kernelspec": {
   "display_name": "Python 3",
   "language": "python",
   "name": "python3"
  },
  "language_info": {
   "codemirror_mode": {
    "name": "ipython",
    "version": 3
   },
   "file_extension": ".py",
   "mimetype": "text/x-python",
   "name": "python",
   "nbconvert_exporter": "python",
   "pygments_lexer": "ipython3",
   "version": "3.6.3"
  }
 },
 "nbformat": 4,
 "nbformat_minor": 2
}
