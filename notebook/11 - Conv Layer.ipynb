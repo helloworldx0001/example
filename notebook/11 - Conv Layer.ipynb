{
 "cells": [
  {
   "cell_type": "code",
   "execution_count": 1,
   "metadata": {},
   "outputs": [
    {
     "name": "stdout",
     "output_type": "stream",
     "text": [
      "[[[[7.]\n",
      "   [2.]]\n",
      "\n",
      "  [[2.]\n",
      "   [0.]]]]\n"
     ]
    }
   ],
   "source": [
    "import tensorflow as tf\n",
    "\n",
    "input = tf.constant([1,-1,0,-1,2,1,0,2,-2], shape=[1,3,3,1], dtype=tf.float32)\n",
    "filter_weight = tf.constant([1,-1,0,2], shape=[2,2,1,1], dtype=tf.float32)\n",
    "biases = tf.constant([1], dtype=tf.float32)\n",
    "\n",
    "with tf.Session() as sess:\n",
    "    conv = tf.nn.conv2d(input, filter_weight, strides=[1, 1, 1, 1], padding='VALID')\n",
    "    output = tf.nn.relu(tf.nn.bias_add(conv, biases))\n",
    "    print sess.run(output)"
   ]
  },
  {
   "cell_type": "code",
   "execution_count": 2,
   "metadata": {},
   "outputs": [
    {
     "name": "stdout",
     "output_type": "stream",
     "text": [
      "[[[[7.]\n",
      "   [2.]\n",
      "   [1.]]\n",
      "\n",
      "  [[2.]\n",
      "   [0.]\n",
      "   [2.]]\n",
      "\n",
      "  [[0.]\n",
      "   [5.]\n",
      "   [0.]]]]\n"
     ]
    }
   ],
   "source": [
    "with tf.Session() as sess:\n",
    "    conv = tf.nn.conv2d(input, filter_weight, strides=[1, 1, 1, 1], padding='SAME')\n",
    "    output = tf.nn.relu(tf.nn.bias_add(conv, biases))\n",
    "    print sess.run(output)"
   ]
  },
  {
   "cell_type": "code",
   "execution_count": 3,
   "metadata": {},
   "outputs": [
    {
     "name": "stdout",
     "output_type": "stream",
     "text": [
      "[[[[7.]\n",
      "   [1.]]\n",
      "\n",
      "  [[0.]\n",
      "   [0.]]]]\n"
     ]
    }
   ],
   "source": [
    "with tf.Session() as sess:\n",
    "    conv = tf.nn.conv2d(input, filter_weight, strides=[1, 2, 2, 1], padding='SAME')\n",
    "    output = tf.nn.relu(tf.nn.bias_add(conv, biases))\n",
    "    print sess.run(output)"
   ]
  },
  {
   "cell_type": "code",
   "execution_count": null,
   "metadata": {
    "collapsed": true
   },
   "outputs": [],
   "source": []
  }
 ],
 "metadata": {
  "kernelspec": {
   "display_name": "Python 2",
   "language": "python",
   "name": "python2"
  },
  "language_info": {
   "codemirror_mode": {
    "name": "ipython",
    "version": 2
   },
   "file_extension": ".py",
   "mimetype": "text/x-python",
   "name": "python",
   "nbconvert_exporter": "python",
   "pygments_lexer": "ipython2",
   "version": "2.7.10"
  }
 },
 "nbformat": 4,
 "nbformat_minor": 2
}
