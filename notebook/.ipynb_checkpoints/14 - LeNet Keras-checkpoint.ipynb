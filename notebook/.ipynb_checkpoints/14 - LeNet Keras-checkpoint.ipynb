{
 "cells": [
  {
   "cell_type": "code",
   "execution_count": 1,
   "metadata": {},
   "outputs": [
    {
     "ename": "ImportError",
     "evalue": "No module named keras.models",
     "output_type": "error",
     "traceback": [
      "\u001b[0;31m---------------------------------------------------------------------------\u001b[0m",
      "\u001b[0;31mImportError\u001b[0m                               Traceback (most recent call last)",
      "\u001b[0;32m<ipython-input-1-ab1811071de5>\u001b[0m in \u001b[0;36m<module>\u001b[0;34m()\u001b[0m\n\u001b[1;32m      1\u001b[0m \u001b[0;32mimport\u001b[0m \u001b[0mnumpy\u001b[0m \u001b[0;32mas\u001b[0m \u001b[0mnp\u001b[0m\u001b[0;34m\u001b[0m\u001b[0m\n\u001b[0;32m----> 2\u001b[0;31m \u001b[0;32mfrom\u001b[0m \u001b[0mtensorflow\u001b[0m\u001b[0;34m.\u001b[0m\u001b[0mkeras\u001b[0m\u001b[0;34m.\u001b[0m\u001b[0mmodels\u001b[0m \u001b[0;32mimport\u001b[0m \u001b[0mSequential\u001b[0m\u001b[0;34m\u001b[0m\u001b[0m\n\u001b[0m\u001b[1;32m      3\u001b[0m \u001b[0;32mfrom\u001b[0m \u001b[0mtensorflow\u001b[0m\u001b[0;34m.\u001b[0m\u001b[0mkeras\u001b[0m\u001b[0;34m.\u001b[0m\u001b[0mlayers\u001b[0m \u001b[0;32mimport\u001b[0m \u001b[0mConv2D\u001b[0m\u001b[0;34m\u001b[0m\u001b[0m\n\u001b[1;32m      4\u001b[0m \u001b[0;32mfrom\u001b[0m \u001b[0mtensorflow\u001b[0m\u001b[0;34m.\u001b[0m\u001b[0mkeras\u001b[0m\u001b[0;34m.\u001b[0m\u001b[0mlayers\u001b[0m \u001b[0;32mimport\u001b[0m \u001b[0mMaxPooling2D\u001b[0m\u001b[0;34m\u001b[0m\u001b[0m\n\u001b[1;32m      5\u001b[0m \u001b[0;32mfrom\u001b[0m \u001b[0mtensorflow\u001b[0m\u001b[0;34m.\u001b[0m\u001b[0mkeras\u001b[0m\u001b[0;34m.\u001b[0m\u001b[0mlayers\u001b[0m \u001b[0;32mimport\u001b[0m \u001b[0mFlatten\u001b[0m\u001b[0;34m\u001b[0m\u001b[0m\n",
      "\u001b[0;31mImportError\u001b[0m: No module named keras.models"
     ]
    }
   ],
   "source": [
    "import numpy as np\n",
    "import keras\n",
    "from keras.models import Sequential\n",
    "from keras.layers import Conv2D\n",
    "from keras.layers import MaxPooling2D\n",
    "from keras.layers import Flatten\n",
    "from keras.layers import Dense\n",
    "from keras import regularizers\n",
    "from keras.layers import Dropout\n",
    "from keras.optimizers import SGD\n",
    "from tensorflow.examples.tutorials.mnist import input_data\n",
    "\n",
    "\n",
    "# 基础学习率以及学习率衰减指数\n",
    "LEARNING_RATE_BASE = 0.01\n",
    "LEARNING_RATE_DECAY = 0.99   \n",
    "\n",
    "KEEP_PROB = 0.5\n",
    "\n",
    "# 正则化权重\n",
    "REGULARAZTION_RATE = 0.001\n",
    "\n",
    "TRAINING_STEPS = 5000\n",
    "\n",
    "# 网络结构参数\n",
    "IMAGE_SIZE = 28\n",
    "NUM_CHANNELS = 1\n",
    "NUM_LABELS = 10\n",
    "\n",
    "CONV1_DEEP = 32\n",
    "CONV1_SIZE = 5\n",
    "\n",
    "CONV2_DEEP = 64\n",
    "CONV2_SIZE = 5\n",
    "\n",
    "FC_SIZE = 512\n",
    "\n",
    "def define_model():\n",
    "    model = Sequential()\n",
    "\n",
    "    model.add(Conv2D(\n",
    "        input_shape = (IMAGE_SIZE, IMAGE_SIZE, NUM_CHANNELS),\n",
    "        kernel_size=CONV1_SIZE, filters=CONV1_DEEP, activation='relu', padding='SAME',\n",
    "        kernel_regularizer=regularizers.l2(REGULARAZTION_RATE)))\n",
    "    model.add(MaxPooling2D(pool_size = 2, strides = 2, padding='same'))\n",
    "    model.add(Conv2D(kernel_size=CONV2_SIZE, filters=CONV2_DEEP,  activation='relu', padding='same',\n",
    "                     kernel_regularizer=regularizers.l2(REGULARAZTION_RATE)))\n",
    "    model.add(MaxPooling2D(pool_size=(2,2), strides=2, padding='same'))\n",
    "\n",
    "    model.add(Flatten())\n",
    "    model.add(Dense(FC_SIZE, activation='relu'))\n",
    "    model.add(Dropout(KEEP_PROB))\n",
    "    model.add(Dense(NUM_LABELS, activation='softmax'))\n",
    "    \n",
    "    model.compile(optimizer = SGD(lr=LEARNING_RATE_BASE), \n",
    "                  loss = 'categorical_crossentropy', metrics = ['accuracy'])\n",
    "    return model\n",
    "\n",
    "if __name__ == '__main__':\n",
    "    mnist = input_data.read_data_sets(\"../MNIST_data\", one_hot=True)\n",
    "\n",
    "    train_x = np.reshape(mnist.train.images, (-1, IMAGE_SIZE, IMAGE_SIZE, NUM_CHANNELS))\n",
    "    validation_x = np.reshape(mnist.validation.images, (-1, IMAGE_SIZE, IMAGE_SIZE, NUM_CHANNELS))\n",
    "    test_x = np.reshape(mnist.test.images, (-1, IMAGE_SIZE, IMAGE_SIZE, NUM_CHANNELS))\n",
    "\n",
    "    model = define_model()\n",
    "    model.fit(train_x, mnist.train.labels, epochs = 5, \n",
    "              validation_data=(validation_x, mnist.validation.labels))\n",
    "    \n",
    "    loss, accuracy = model.evaluate(test_x, mnist.test.labels)\n",
    "    print('\\ntest loss: ', loss)\n",
    "    print('\\ntest accuracy: ', accuracy)"
   ]
  },
  {
   "cell_type": "code",
   "execution_count": null,
   "metadata": {},
   "outputs": [],
   "source": []
  }
 ],
 "metadata": {
  "kernelspec": {
   "display_name": "Python 2",
   "language": "python",
   "name": "python2"
  },
  "language_info": {
   "codemirror_mode": {
    "name": "ipython",
    "version": 2
   },
   "file_extension": ".py",
   "mimetype": "text/x-python",
   "name": "python",
   "nbconvert_exporter": "python",
   "pygments_lexer": "ipython2",
   "version": "2.7.10"
  }
 },
 "nbformat": 4,
 "nbformat_minor": 2
}
